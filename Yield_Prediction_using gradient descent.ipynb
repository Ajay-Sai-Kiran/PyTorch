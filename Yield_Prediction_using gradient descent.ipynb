{
  "nbformat": 4,
  "nbformat_minor": 0,
  "metadata": {
    "colab": {
      "name": "Yield Prediction .ipynb",
      "provenance": [],
      "authorship_tag": "ABX9TyPjs/u1t2FE9iGv9Dg30Aws",
      "include_colab_link": true
    },
    "kernelspec": {
      "name": "python3",
      "display_name": "Python 3"
    },
    "language_info": {
      "name": "python"
    }
  },
  "cells": [
    {
      "cell_type": "markdown",
      "metadata": {
        "id": "view-in-github",
        "colab_type": "text"
      },
      "source": [
        "<a href=\"https://colab.research.google.com/github/ajaysaikiran2208/PyTorch/blob/main/Yield_Prediction_using%20gradient%20descent.ipynb\" target=\"_parent\"><img src=\"https://colab.research.google.com/assets/colab-badge.svg\" alt=\"Open In Colab\"/></a>"
      ]
    },
    {
      "cell_type": "markdown",
      "metadata": {
        "id": "09MPvNzLpean"
      },
      "source": [
        "Linear Regression using PyTorch"
      ]
    },
    {
      "cell_type": "markdown",
      "metadata": {
        "id": "4DunFKiKpju_"
      },
      "source": [
        "Estimation of Crop Yield"
      ]
    },
    {
      "cell_type": "code",
      "metadata": {
        "id": "TznrHRBHpiwa"
      },
      "source": [
        "import numpy as np\n",
        "import torch"
      ],
      "execution_count": 1,
      "outputs": []
    },
    {
      "cell_type": "markdown",
      "metadata": {
        "id": "apnRdMKtp4pg"
      },
      "source": [
        "Training data\n",
        "\n",
        "\n",
        "We can represent the training data using two matrices: inputs and targets, each with one row per observation, and one column per variable."
      ]
    },
    {
      "cell_type": "code",
      "metadata": {
        "id": "vo6wWT0_pu9f"
      },
      "source": [
        "# Input (temp, rainfall, humidity)\n",
        "inputs = np.array([[73, 67, 43], \n",
        "                   [91, 88, 64], \n",
        "                   [87, 134, 58], \n",
        "                   [102, 43, 37], \n",
        "                   [69, 96, 70]], dtype='float32')"
      ],
      "execution_count": 2,
      "outputs": []
    },
    {
      "cell_type": "code",
      "metadata": {
        "id": "gvYX7J0pqDt4"
      },
      "source": [
        "# Targets (apples, oranges)\n",
        "targets = np.array([[56, 70], \n",
        "                    [81, 101], \n",
        "                    [119, 133], \n",
        "                    [22, 37], \n",
        "                    [103, 119]], dtype='float32')"
      ],
      "execution_count": 3,
      "outputs": []
    },
    {
      "cell_type": "code",
      "metadata": {
        "colab": {
          "base_uri": "https://localhost:8080/"
        },
        "id": "bCnmbn3UqG8f",
        "outputId": "bcbafaff-8cf6-445b-b83b-31b80f8b368d"
      },
      "source": [
        "# Convert inputs and targets to tensors\n",
        "inputs = torch.from_numpy(inputs)\n",
        "targets = torch.from_numpy(targets)\n",
        "print(inputs)\n",
        "print(targets)"
      ],
      "execution_count": 4,
      "outputs": [
        {
          "output_type": "stream",
          "text": [
            "tensor([[ 73.,  67.,  43.],\n",
            "        [ 91.,  88.,  64.],\n",
            "        [ 87., 134.,  58.],\n",
            "        [102.,  43.,  37.],\n",
            "        [ 69.,  96.,  70.]])\n",
            "tensor([[ 56.,  70.],\n",
            "        [ 81., 101.],\n",
            "        [119., 133.],\n",
            "        [ 22.,  37.],\n",
            "        [103., 119.]])\n"
          ],
          "name": "stdout"
        }
      ]
    },
    {
      "cell_type": "markdown",
      "metadata": {
        "id": "7ZYVwHt9qOu3"
      },
      "source": [
        "Linear regression model from scratch"
      ]
    },
    {
      "cell_type": "markdown",
      "metadata": {
        "id": "F-3Mb5B-qUKv"
      },
      "source": [
        "yield_apple  = w11 * temp + w12 * rainfall + w13 * humidity + b1\n",
        "\n",
        "yield_orange = w21 * temp + w22 * rainfall + w23 * humidity + b2"
      ]
    },
    {
      "cell_type": "code",
      "metadata": {
        "colab": {
          "base_uri": "https://localhost:8080/"
        },
        "id": "XL6qcOUEqL8_",
        "outputId": "45ec899f-f1c7-4bd7-d2c2-c546392365e9"
      },
      "source": [
        "# Weights and biases\n",
        "w = torch.randn(2, 3, requires_grad=True)\n",
        "b = torch.randn(2, requires_grad=True)\n",
        "print(w)\n",
        "print(b)"
      ],
      "execution_count": 5,
      "outputs": [
        {
          "output_type": "stream",
          "text": [
            "tensor([[-0.2942,  0.7090,  0.4133],\n",
            "        [ 0.3486,  0.6356,  1.0690]], requires_grad=True)\n",
            "tensor([-1.3478, -0.5417], requires_grad=True)\n"
          ],
          "name": "stdout"
        }
      ]
    },
    {
      "cell_type": "code",
      "metadata": {
        "id": "cNlFUHDsqanv"
      },
      "source": [
        "def model(x):\n",
        "    return x @ w.t() + b"
      ],
      "execution_count": 6,
      "outputs": []
    },
    {
      "cell_type": "code",
      "metadata": {
        "colab": {
          "base_uri": "https://localhost:8080/"
        },
        "id": "zDIByGJ1qfY3",
        "outputId": "476fba52-9a06-4e9b-866f-6f5758b740de"
      },
      "source": [
        "# Generate predictions\n",
        "preds = model(inputs)\n",
        "print(preds)"
      ],
      "execution_count": 7,
      "outputs": [
        {
          "output_type": "stream",
          "text": [
            "tensor([[ 42.4510, 113.4616],\n",
            "        [ 60.7239, 155.5335],\n",
            "        [ 92.0366, 176.9639],\n",
            "        [ 14.4221, 101.9035],\n",
            "        [ 75.3488, 159.3621]], grad_fn=<AddBackward0>)\n"
          ],
          "name": "stdout"
        }
      ]
    },
    {
      "cell_type": "code",
      "metadata": {
        "colab": {
          "base_uri": "https://localhost:8080/"
        },
        "id": "x7dkfe-Nqj_I",
        "outputId": "ae57580e-d606-44d2-96df-560b38b362b5"
      },
      "source": [
        "# Compare with targets\n",
        "print(targets)"
      ],
      "execution_count": 8,
      "outputs": [
        {
          "output_type": "stream",
          "text": [
            "tensor([[ 56.,  70.],\n",
            "        [ 81., 101.],\n",
            "        [119., 133.],\n",
            "        [ 22.,  37.],\n",
            "        [103., 119.]])\n"
          ],
          "name": "stdout"
        }
      ]
    },
    {
      "cell_type": "markdown",
      "metadata": {
        "id": "E0srBli_qqcI"
      },
      "source": [
        "Loss function"
      ]
    },
    {
      "cell_type": "code",
      "metadata": {
        "id": "eAiO_8Kkqn6r"
      },
      "source": [
        "def mse(t1, t2):\n",
        "    diff = t1 - t2\n",
        "    return torch.sum(diff * diff) / diff.numel()"
      ],
      "execution_count": 10,
      "outputs": []
    },
    {
      "cell_type": "code",
      "metadata": {
        "colab": {
          "base_uri": "https://localhost:8080/"
        },
        "id": "Fmh96RjBqxEY",
        "outputId": "5544f204-366c-427c-9159-ab36461b810b"
      },
      "source": [
        "# Compute loss\n",
        "loss = mse(preds, targets)\n",
        "print(loss)"
      ],
      "execution_count": 11,
      "outputs": [
        {
          "output_type": "stream",
          "text": [
            "tensor(1478.0931, grad_fn=<DivBackward0>)\n"
          ],
          "name": "stdout"
        }
      ]
    },
    {
      "cell_type": "markdown",
      "metadata": {
        "id": "8QXg8bE2q3VY"
      },
      "source": [
        "Compute gradients"
      ]
    },
    {
      "cell_type": "code",
      "metadata": {
        "id": "_iFctRzRq0wY"
      },
      "source": [
        "# Compute gradients\n",
        "loss.backward()"
      ],
      "execution_count": 12,
      "outputs": []
    },
    {
      "cell_type": "code",
      "metadata": {
        "colab": {
          "base_uri": "https://localhost:8080/"
        },
        "id": "a66KLv_7rLlo",
        "outputId": "63a90607-6f73-4476-f6bb-9f2db5566d5d"
      },
      "source": [
        "# Gradients for weights\n",
        "print(w)\n",
        "print(w.grad)"
      ],
      "execution_count": 13,
      "outputs": [
        {
          "output_type": "stream",
          "text": [
            "tensor([[-0.2942,  0.7090,  0.4133],\n",
            "        [ 0.3486,  0.6356,  1.0690]], requires_grad=True)\n",
            "tensor([[-1572.1780, -1857.1061, -1132.0228],\n",
            "        [ 4273.0493,  4053.5293,  2627.1350]])\n"
          ],
          "name": "stdout"
        }
      ]
    },
    {
      "cell_type": "markdown",
      "metadata": {
        "id": "47nd80ktv7eA"
      },
      "source": [
        "Adjust weights and biases to reduce the loss"
      ]
    },
    {
      "cell_type": "code",
      "metadata": {
        "colab": {
          "base_uri": "https://localhost:8080/"
        },
        "id": "r601lPZUvYoj",
        "outputId": "28a90327-4442-4d82-bada-4ce428930a87"
      },
      "source": [
        "w\n",
        "w.grad"
      ],
      "execution_count": 14,
      "outputs": [
        {
          "output_type": "execute_result",
          "data": {
            "text/plain": [
              "tensor([[-1572.1780, -1857.1061, -1132.0228],\n",
              "        [ 4273.0493,  4053.5293,  2627.1350]])"
            ]
          },
          "metadata": {
            "tags": []
          },
          "execution_count": 14
        }
      ]
    },
    {
      "cell_type": "code",
      "metadata": {
        "id": "dxWaal8zv_9Y"
      },
      "source": [
        "with torch.no_grad():\n",
        "    w -= w.grad * 1e-5\n",
        "    b -= b.grad * 1e-5"
      ],
      "execution_count": 15,
      "outputs": []
    },
    {
      "cell_type": "code",
      "metadata": {
        "id": "p463YN8qIIiV",
        "colab": {
          "base_uri": "https://localhost:8080/"
        },
        "outputId": "fa4ba644-ba6e-4439-9e1a-5e92581a81f7"
      },
      "source": [
        "# Let's verify that the loss is actually lower\n",
        "loss = mse(preds, targets)\n",
        "print(loss)"
      ],
      "execution_count": 16,
      "outputs": [
        {
          "output_type": "stream",
          "text": [
            "tensor(1478.0931, grad_fn=<DivBackward0>)\n"
          ],
          "name": "stdout"
        }
      ]
    },
    {
      "cell_type": "code",
      "metadata": {
        "id": "kI6UsB7FIIiX",
        "colab": {
          "base_uri": "https://localhost:8080/"
        },
        "outputId": "0937a6e7-5dac-4da5-d0ae-0270e91a4934"
      },
      "source": [
        "w.grad.zero_()\n",
        "b.grad.zero_()\n",
        "print(w.grad)\n",
        "print(b.grad)"
      ],
      "execution_count": 17,
      "outputs": [
        {
          "output_type": "stream",
          "text": [
            "tensor([[0., 0., 0.],\n",
            "        [0., 0., 0.]])\n",
            "tensor([0., 0.])\n"
          ],
          "name": "stdout"
        }
      ]
    },
    {
      "cell_type": "markdown",
      "metadata": {
        "id": "o-r5ALb6wbdh"
      },
      "source": [
        "Train the model using gradient descent\n",
        "\n",
        "\n",
        "As seen above, we reduce the loss and improve our model using the gradient descent optimization algorithm. Thus, we can train the model using the following steps:\n",
        "\n",
        "Generate predictions\n",
        "\n",
        "Calculate the loss\n",
        "\n",
        "Compute gradients w.r.t the weights and biases\n",
        "\n",
        "Adjust the weights by subtracting a small quantity proportional to the gradient\n",
        "\n",
        "Reset the gradients to zero"
      ]
    },
    {
      "cell_type": "code",
      "metadata": {
        "colab": {
          "base_uri": "https://localhost:8080/"
        },
        "id": "8o2otJ4FwW9L",
        "outputId": "86e7df4f-8eab-4a2a-a8c3-db1c03faf7ff"
      },
      "source": [
        "# Generate predictions\n",
        "preds = model(inputs)\n",
        "print(preds)\n",
        "print(inputs)"
      ],
      "execution_count": 18,
      "outputs": [
        {
          "output_type": "stream",
          "text": [
            "tensor([[ 45.3299, 106.4962],\n",
            "        [ 64.5136, 146.3961],\n",
            "        [ 96.5497, 166.2903],\n",
            "        [ 17.2433,  94.8295],\n",
            "        [ 79.0091, 150.6828]], grad_fn=<AddBackward0>)\n",
            "tensor([[ 73.,  67.,  43.],\n",
            "        [ 91.,  88.,  64.],\n",
            "        [ 87., 134.,  58.],\n",
            "        [102.,  43.,  37.],\n",
            "        [ 69.,  96.,  70.]])\n"
          ],
          "name": "stdout"
        }
      ]
    },
    {
      "cell_type": "code",
      "metadata": {
        "colab": {
          "base_uri": "https://localhost:8080/"
        },
        "id": "2sFVnWUgwmfi",
        "outputId": "f01a5de1-645e-4d68-90cb-076d11550a98"
      },
      "source": [
        "# Calculate the loss\n",
        "loss = mse(preds, targets)\n",
        "print(loss)"
      ],
      "execution_count": 19,
      "outputs": [
        {
          "output_type": "stream",
          "text": [
            "tensor(1033.6937, grad_fn=<DivBackward0>)\n"
          ],
          "name": "stdout"
        }
      ]
    },
    {
      "cell_type": "code",
      "metadata": {
        "colab": {
          "base_uri": "https://localhost:8080/"
        },
        "id": "wjQZ1jVawpLI",
        "outputId": "e8f3110f-7cf5-4454-c994-f854acd46756"
      },
      "source": [
        "# Compute gradients\n",
        "loss.backward()\n",
        "print(w.grad)\n",
        "print(b.grad)"
      ],
      "execution_count": 20,
      "outputs": [
        {
          "output_type": "stream",
          "text": [
            "tensor([[-1274.5829, -1536.3414,  -934.2849],\n",
            "        [ 3555.2505,  3285.8459,  2152.6035]])\n",
            "tensor([-15.6709,  40.9390])\n"
          ],
          "name": "stdout"
        }
      ]
    },
    {
      "cell_type": "code",
      "metadata": {
        "id": "_DHjgK9dwsCt"
      },
      "source": [
        "# Adjust weights & reset gradients\n",
        "with torch.no_grad():\n",
        "    w -= w.grad * 1e-5\n",
        "    b -= b.grad * 1e-5\n",
        "    w.grad.zero_()\n",
        "    b.grad.zero_()"
      ],
      "execution_count": 21,
      "outputs": []
    },
    {
      "cell_type": "code",
      "metadata": {
        "colab": {
          "base_uri": "https://localhost:8080/"
        },
        "id": "XUNEy4Wxxh7u",
        "outputId": "0f552bf9-a5cf-4e12-bffb-ef9506ec388d"
      },
      "source": [
        "print(w)\n",
        "print(b)"
      ],
      "execution_count": 22,
      "outputs": [
        {
          "output_type": "stream",
          "text": [
            "tensor([[-0.2658,  0.7430,  0.4340],\n",
            "        [ 0.2704,  0.5622,  1.0212]], requires_grad=True)\n",
            "tensor([-1.3475, -0.5426], requires_grad=True)\n"
          ],
          "name": "stdout"
        }
      ]
    },
    {
      "cell_type": "code",
      "metadata": {
        "colab": {
          "base_uri": "https://localhost:8080/"
        },
        "id": "I2bfkU5wxvwq",
        "outputId": "6033e4de-b71e-4bab-c706-e63d6f35d39e"
      },
      "source": [
        "# Calculate loss\n",
        "preds = model(inputs)\n",
        "loss = mse(preds, targets)\n",
        "print(loss)"
      ],
      "execution_count": 23,
      "outputs": [
        {
          "output_type": "stream",
          "text": [
            "tensor(733.7550, grad_fn=<DivBackward0>)\n"
          ],
          "name": "stdout"
        }
      ]
    },
    {
      "cell_type": "code",
      "metadata": {
        "id": "CKs63cINx2eo"
      },
      "source": [
        "# Train for 100 epochs\n",
        "for i in range(100):\n",
        "    preds = model(inputs)\n",
        "    loss = mse(preds, targets)\n",
        "    loss.backward()\n",
        "    with torch.no_grad():\n",
        "        w -= w.grad * 1e-5\n",
        "        b -= b.grad * 1e-5\n",
        "        w.grad.zero_()\n",
        "        b.grad.zero_()"
      ],
      "execution_count": 25,
      "outputs": []
    },
    {
      "cell_type": "code",
      "metadata": {
        "colab": {
          "base_uri": "https://localhost:8080/"
        },
        "id": "ZeDNMvr4yGRJ",
        "outputId": "3b9db724-4432-4247-c84d-67b4312a20ab"
      },
      "source": [
        "# Calculate loss\n",
        "preds = model(inputs)\n",
        "loss = mse(preds, targets)\n",
        "print(loss)"
      ],
      "execution_count": 26,
      "outputs": [
        {
          "output_type": "stream",
          "text": [
            "tensor(11.2331, grad_fn=<DivBackward0>)\n"
          ],
          "name": "stdout"
        }
      ]
    },
    {
      "cell_type": "code",
      "metadata": {
        "colab": {
          "base_uri": "https://localhost:8080/"
        },
        "id": "0Eysf4luyL_L",
        "outputId": "d0546454-0149-4a43-80bc-93030b1e5f24"
      },
      "source": [
        "# Predictions\n",
        "preds"
      ],
      "execution_count": 27,
      "outputs": [
        {
          "output_type": "execute_result",
          "data": {
            "text/plain": [
              "tensor([[ 57.4956,  71.4423],\n",
              "        [ 81.3708, 102.0252],\n",
              "        [120.0590, 128.0530],\n",
              "        [ 24.2061,  44.1933],\n",
              "        [ 98.3767, 117.1985]], grad_fn=<AddBackward0>)"
            ]
          },
          "metadata": {
            "tags": []
          },
          "execution_count": 27
        }
      ]
    },
    {
      "cell_type": "code",
      "metadata": {
        "colab": {
          "base_uri": "https://localhost:8080/"
        },
        "id": "0NlrHr4QyOeD",
        "outputId": "027affb9-1f00-4ec8-b46c-d77a2cb67321"
      },
      "source": [
        "# Targets\n",
        "targets"
      ],
      "execution_count": 28,
      "outputs": [
        {
          "output_type": "execute_result",
          "data": {
            "text/plain": [
              "tensor([[ 56.,  70.],\n",
              "        [ 81., 101.],\n",
              "        [119., 133.],\n",
              "        [ 22.,  37.],\n",
              "        [103., 119.]])"
            ]
          },
          "metadata": {
            "tags": []
          },
          "execution_count": 28
        }
      ]
    }
  ]
}