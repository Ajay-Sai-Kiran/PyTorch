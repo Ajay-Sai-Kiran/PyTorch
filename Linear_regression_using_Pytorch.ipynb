{
  "nbformat": 4,
  "nbformat_minor": 0,
  "metadata": {
    "colab": {
      "name": "Linear regression using Pytorch.ipynb",
      "provenance": [],
      "authorship_tag": "ABX9TyNgD5zxn40SLZgac6zcKcTw",
      "include_colab_link": true
    },
    "kernelspec": {
      "name": "python3",
      "display_name": "Python 3"
    },
    "language_info": {
      "name": "python"
    }
  },
  "cells": [
    {
      "cell_type": "markdown",
      "metadata": {
        "id": "view-in-github",
        "colab_type": "text"
      },
      "source": [
        "<a href=\"https://colab.research.google.com/github/ajaysaikiran2208/PyTorch/blob/main/Linear_regression_using_Pytorch.ipynb\" target=\"_parent\"><img src=\"https://colab.research.google.com/assets/colab-badge.svg\" alt=\"Open In Colab\"/></a>"
      ]
    },
    {
      "cell_type": "markdown",
      "metadata": {
        "id": "uROZ0A5jqRC7"
      },
      "source": [
        "#Linear Regression In Pytorch"
      ]
    },
    {
      "cell_type": "code",
      "metadata": {
        "id": "gY5B0hRyiBnP"
      },
      "source": [
        "import torch\n",
        "import numpy as np"
      ],
      "execution_count": 2,
      "outputs": []
    },
    {
      "cell_type": "code",
      "metadata": {
        "id": "PR3cnOi5jAwj"
      },
      "source": [
        "# Input (temp, rainfall, humidity)\n",
        "inputs = np.array([[73, 67, 43], \n",
        "                   [91, 88, 59], \n",
        "                   [87, 134, 68], \n",
        "                   [102, 43, 37], \n",
        "                   [70, 96, 79]], dtype='float32')\n",
        "                   \n",
        "# Targets (rice, wheat)\n",
        "targets = np.array([[62, 71], \n",
        "                    [91, 102], \n",
        "                    [109, 123], \n",
        "                    [34, 43], \n",
        "                    [99, 111]], dtype='float32')"
      ],
      "execution_count": 4,
      "outputs": []
    },
    {
      "cell_type": "code",
      "metadata": {
        "colab": {
          "base_uri": "https://localhost:8080/"
        },
        "id": "OjGrgC4uiFH7",
        "outputId": "aea9d1e1-9966-45a1-a34f-90761fa866cc"
      },
      "source": [
        "# Convert inputs and targets to tensors\n",
        "inputs = torch.from_numpy(inputs)\n",
        "targets = torch.from_numpy(targets)\n",
        "print(inputs)\n",
        "print(targets)"
      ],
      "execution_count": 5,
      "outputs": [
        {
          "output_type": "stream",
          "text": [
            "tensor([[ 73.,  67.,  43.],\n",
            "        [ 91.,  88.,  59.],\n",
            "        [ 87., 134.,  68.],\n",
            "        [102.,  43.,  37.],\n",
            "        [ 70.,  96.,  79.]])\n",
            "tensor([[ 62.,  71.],\n",
            "        [ 91., 102.],\n",
            "        [109., 123.],\n",
            "        [ 34.,  43.],\n",
            "        [ 99., 111.]])\n"
          ],
          "name": "stdout"
        }
      ]
    },
    {
      "cell_type": "code",
      "metadata": {
        "colab": {
          "base_uri": "https://localhost:8080/"
        },
        "id": "2U6xg_v-iIjb",
        "outputId": "01e92243-8482-46f4-dd96-4705a30d7d46"
      },
      "source": [
        "# Weights and biases\n",
        "w = torch.randn(2, 3, requires_grad=True)\n",
        "b = torch.randn(2, requires_grad=True)\n",
        "print(w)\n",
        "print(b)"
      ],
      "execution_count": 6,
      "outputs": [
        {
          "output_type": "stream",
          "text": [
            "tensor([[ 1.0089, -0.9404,  0.7329],\n",
            "        [-0.9061, -0.8904,  0.7880]], requires_grad=True)\n",
            "tensor([-0.3367, -0.3290], requires_grad=True)\n"
          ],
          "name": "stdout"
        }
      ]
    },
    {
      "cell_type": "code",
      "metadata": {
        "id": "o5vrWvaGiKg5"
      },
      "source": [
        "def model(x):\n",
        "    return x @ w.t() + b"
      ],
      "execution_count": 7,
      "outputs": []
    },
    {
      "cell_type": "code",
      "metadata": {
        "colab": {
          "base_uri": "https://localhost:8080/"
        },
        "id": "QplnW4-niNTB",
        "outputId": "10cdfe28-acc0-48da-b554-c549e5e432bd"
      },
      "source": [
        "# Generate predictions\n",
        "preds = model(inputs)\n",
        "print(preds)"
      ],
      "execution_count": 8,
      "outputs": [
        {
          "output_type": "stream",
          "text": [
            "tensor([[  41.8205,  -92.2511],\n",
            "        [  51.9585, -114.6522],\n",
            "        [  11.2598, -144.8953],\n",
            "        [  89.2516, -101.8871],\n",
            "        [  37.9057,  -86.9857]], grad_fn=<AddBackward0>)\n"
          ],
          "name": "stdout"
        }
      ]
    },
    {
      "cell_type": "code",
      "metadata": {
        "id": "Gzn16hC8olXY"
      },
      "source": [
        ""
      ],
      "execution_count": null,
      "outputs": []
    }
  ]
}