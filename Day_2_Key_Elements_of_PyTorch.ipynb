{
  "nbformat": 4,
  "nbformat_minor": 0,
  "metadata": {
    "colab": {
      "name": "Day-2 Key Elements of PyTorch.ipynb",
      "provenance": [],
      "authorship_tag": "ABX9TyMPG0uQ4t/ZsbKFVQbr5HDs",
      "include_colab_link": true
    },
    "kernelspec": {
      "name": "python3",
      "display_name": "Python 3"
    },
    "language_info": {
      "name": "python"
    }
  },
  "cells": [
    {
      "cell_type": "markdown",
      "metadata": {
        "id": "view-in-github",
        "colab_type": "text"
      },
      "source": [
        "<a href=\"https://colab.research.google.com/github/Ajay-Sai-Kiran/PyTorch/blob/main/Day_2_Key_Elements_of_PyTorch.ipynb\" target=\"_parent\"><img src=\"https://colab.research.google.com/assets/colab-badge.svg\" alt=\"Open In Colab\"/></a>"
      ]
    },
    {
      "cell_type": "markdown",
      "source": [
        "#Key Elements of PyTorch"
      ],
      "metadata": {
        "id": "YkNcQ3EaETfS"
      }
    },
    {
      "cell_type": "markdown",
      "source": [
        "#The PyTorch autograd Library"
      ],
      "metadata": {
        "id": "ly0Ra370EWFC"
      }
    },
    {
      "cell_type": "markdown",
      "source": [
        "The **autograd library** consists of a technique called **automatic differentiation**. \n",
        "\n",
        "Its purpose is to **numerically calculate the derivative of a function**."
      ],
      "metadata": {
        "id": "BUT2GSp7EY8h"
      }
    },
    {
      "cell_type": "markdown",
      "source": [
        "This is crucial **for backward propagation**, which is carried out **while training a neural network.**"
      ],
      "metadata": {
        "id": "47qs7j6UEhSn"
      }
    },
    {
      "cell_type": "markdown",
      "source": [
        "**The derivative (also known as the gradient) of an element refers to the rate of change of that element in a given time step.**"
      ],
      "metadata": {
        "id": "ntN-Po1qFKxn"
      }
    },
    {
      "cell_type": "markdown",
      "source": [
        "\n",
        "\n",
        "**In deep learning, gradients refer to the dimension and magnitude in which the parameters of the neural network must be updated in a training step in order to minimize the loss function.**"
      ],
      "metadata": {
        "id": "GtLogGmgEqH8"
      }
    },
    {
      "cell_type": "markdown",
      "source": [
        "To **compute the gradients**, simply call the **backward() function**"
      ],
      "metadata": {
        "id": "6oJOBHRUFeaY"
      }
    },
    {
      "cell_type": "code",
      "source": [
        "import torch"
      ],
      "metadata": {
        "id": "p5RQTI9SFXmB"
      },
      "execution_count": 2,
      "outputs": []
    },
    {
      "cell_type": "code",
      "source": [
        "a = torch.tensor([5.0, 3.0], requires_grad=True)\n",
        "b = torch.tensor([1.0, 4.0])\n",
        "ab = ((a + b) ** 2).sum()\n",
        "ab.backward()"
      ],
      "metadata": {
        "id": "mE_Iks5sFRXY"
      },
      "execution_count": 3,
      "outputs": []
    },
    {
      "cell_type": "markdown",
      "source": [
        "Two tensors were created. We use the **requires_grad**\n",
        "argument here to tell PyTorch to calculate the gradients of that tensor."
      ],
      "metadata": {
        "id": "X0sQHGfUGI1H"
      }
    },
    {
      "cell_type": "markdown",
      "source": [
        "A function was defined using the values of both tensors. Finally, the **backward() function** was used to calculate the gradients."
      ],
      "metadata": {
        "id": "YNKCwp20GQky"
      }
    },
    {
      "cell_type": "markdown",
      "source": [
        "#The PyTorch nn Module"
      ],
      "metadata": {
        "id": "BdAcxgVKGfCI"
      }
    },
    {
      "cell_type": "markdown",
      "source": [
        "The **nn module is a complete PyTorch module used to create and train neural**\n",
        "**networks  which, through the use of different elements, allows for simple and** **complex developments.**"
      ],
      "metadata": {
        "id": "hpoMM-l_GgkK"
      }
    },
    {
      "cell_type": "markdown",
      "source": [
        "#Building a neural network architecture"
      ],
      "metadata": {
        "id": "89x2sMQKGz5B"
      }
    },
    {
      "cell_type": "markdown",
      "source": [
        "#Defining a Single-Layer Architecture"
      ],
      "metadata": {
        "id": "dtRGzRbVHKtI"
      }
    },
    {
      "cell_type": "code",
      "source": [
        "import torch\n",
        "import torch.nn as nn"
      ],
      "metadata": {
        "id": "T9VKXZ2F7Zxq"
      },
      "execution_count": 2,
      "outputs": []
    },
    {
      "cell_type": "code",
      "source": [
        "input_units = 10\n",
        "output_units = 1"
      ],
      "metadata": {
        "id": "aWejCavD7eLP"
      },
      "execution_count": 6,
      "outputs": []
    },
    {
      "cell_type": "code",
      "source": [
        "model = nn.Sequential(nn.Linear(input_units, output_units), \\\n",
        "nn.Sigmoid())"
      ],
      "metadata": {
        "id": "Vvfkoo787hRC"
      },
      "execution_count": 7,
      "outputs": []
    },
    {
      "cell_type": "code",
      "source": [
        "print(model)"
      ],
      "metadata": {
        "colab": {
          "base_uri": "https://localhost:8080/"
        },
        "id": "L7idUioC7koK",
        "outputId": "58563771-8373-4b45-e36e-a278cdc38354"
      },
      "execution_count": 8,
      "outputs": [
        {
          "output_type": "stream",
          "name": "stdout",
          "text": [
            "Sequential(\n",
            "  (0): Linear(in_features=10, out_features=1, bias=True)\n",
            "  (1): Sigmoid()\n",
            ")\n"
          ]
        }
      ]
    },
    {
      "cell_type": "code",
      "source": [
        "loss_funct = nn.MSELoss()"
      ],
      "metadata": {
        "id": "sV0N55447rxx"
      },
      "execution_count": 13,
      "outputs": []
    },
    {
      "cell_type": "code",
      "source": [
        "print(loss_funct)"
      ],
      "metadata": {
        "colab": {
          "base_uri": "https://localhost:8080/"
        },
        "id": "4jtVOhoi7tJE",
        "outputId": "7c9331ea-0645-4830-ab83-676ac1a3cbbf"
      },
      "execution_count": 14,
      "outputs": [
        {
          "output_type": "stream",
          "name": "stdout",
          "text": [
            "MSELoss()\n"
          ]
        }
      ]
    },
    {
      "cell_type": "markdown",
      "source": [
        "#The PyTorch optim Package"
      ],
      "metadata": {
        "id": "f0EaHaj081Zq"
      }
    },
    {
      "cell_type": "markdown",
      "source": [
        "The optim package is used to define the optimizer that will be used to update\n",
        "the parameters in each iteration using the gradients calculated by the autograd module."
      ],
      "metadata": {
        "id": "MQrJ7Ph_88pJ"
      }
    },
    {
      "cell_type": "markdown",
      "source": [
        "To set the optimizer to be used"
      ],
      "metadata": {
        "id": "QhJucQcG8_jC"
      }
    },
    {
      "cell_type": "code",
      "source": [
        "optimizer = torch.optim.SGD(model.parameters(), lr=0.01)"
      ],
      "metadata": {
        "id": "Vg9UPEAO9FD5"
      },
      "execution_count": 16,
      "outputs": []
    },
    {
      "cell_type": "markdown",
      "source": [
        "Weights are the values that are used to determine the level of importance of a bit\n",
        "of information in a general context. This means that every bit of information has\n",
        "an accompanying weight for every neuron in the network. Moreover, bias is similar\n",
        "to the intercept element that's added to a linear function and is used to adjust the\n",
        "output from the computation of relevance in a given neuron."
      ],
      "metadata": {
        "id": "nKCCRo7W9Sly"
      }
    },
    {
      "cell_type": "markdown",
      "source": [
        "#Training a Neural Network"
      ],
      "metadata": {
        "id": "9y1GN6u59TiZ"
      }
    },
    {
      "cell_type": "code",
      "source": [
        "import torch\n",
        "import torch.optim as optim\n",
        "import matplotlib.pyplot as plt"
      ],
      "metadata": {
        "id": "fA4JJbGwHKER"
      },
      "execution_count": 17,
      "outputs": []
    },
    {
      "cell_type": "code",
      "source": [
        "x = torch.randn(20,10)\n",
        "y = torch.randint(0,2, (20,1)).type(torch.FloatTensor)"
      ],
      "metadata": {
        "id": "qYhQFJQr9ctZ"
      },
      "execution_count": 18,
      "outputs": []
    },
    {
      "cell_type": "code",
      "source": [
        "optimizer = optim.Adam(model.parameters(), lr=0.01)"
      ],
      "metadata": {
        "id": "3Tzz5Zls9l8A"
      },
      "execution_count": 19,
      "outputs": []
    },
    {
      "cell_type": "code",
      "source": [
        "losses = []\n",
        "for i in range(20):\n",
        "  y_pred = model(x)\n",
        "  loss = loss_funct(y_pred, y)\n",
        "  losses.append(loss.item())\n",
        "  optimizer.zero_grad()\n",
        "  loss.backward()\n",
        "  optimizer.step()\n",
        "if i%5 == 0:\n",
        "  print(i, loss.item())"
      ],
      "metadata": {
        "id": "LL_vF1bl9ptY"
      },
      "execution_count": 23,
      "outputs": []
    },
    {
      "cell_type": "code",
      "source": [
        "plt.plot(range(0,20), losses)\n",
        "plt.show()"
      ],
      "metadata": {
        "colab": {
          "base_uri": "https://localhost:8080/",
          "height": 265
        },
        "id": "gNP0NFGl92MC",
        "outputId": "46f783b3-cf34-480d-8ecd-a5d9ff55913e"
      },
      "execution_count": 24,
      "outputs": [
        {
          "output_type": "display_data",
          "data": {
            "image/png": "[encoded data removed]",
            "text/plain": [
              "<Figure size 432x288 with 1 Axes>"
            ]
          },
          "metadata": {
            "needs_background": "light"
          }
        }
      ]
    }
  ]
}